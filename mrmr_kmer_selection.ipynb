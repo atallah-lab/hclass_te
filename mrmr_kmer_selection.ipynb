{
 "cells": [
  {
   "cell_type": "code",
   "execution_count": 1,
   "metadata": {},
   "outputs": [
    {
     "name": "stderr",
     "output_type": "stream",
     "text": [
      "Loading required package: survival\n",
      "Loading required package: igraph\n",
      "\n",
      "Attaching package: ‘igraph’\n",
      "\n",
      "The following objects are masked from ‘package:stats’:\n",
      "\n",
      "    decompose, spectrum\n",
      "\n",
      "The following object is masked from ‘package:base’:\n",
      "\n",
      "    union\n",
      "\n"
     ]
    }
   ],
   "source": [
    "library(mRMRe)"
   ]
  },
  {
   "cell_type": "code",
   "execution_count": 2,
   "metadata": {},
   "outputs": [
    {
     "data": {
      "text/html": [
       "<table>\n",
       "<thead><tr><th scope=col>A</th><th scope=col>C</th><th scope=col>G</th><th scope=col>T</th><th scope=col>Total</th><th scope=col>AA</th><th scope=col>AC</th><th scope=col>AT</th><th scope=col>AG</th><th scope=col>CA</th><th scope=col>⋯</th><th scope=col>GGCT</th><th scope=col>GGCG</th><th scope=col>GGTA</th><th scope=col>GGTC</th><th scope=col>GGTT</th><th scope=col>GGTG</th><th scope=col>GGGA</th><th scope=col>GGGC</th><th scope=col>GGGT</th><th scope=col>GGGG</th></tr></thead>\n",
       "<tbody>\n",
       "\t<tr><td> 94 </td><td> 74 </td><td> 94 </td><td> 114</td><td> 376</td><td> 36 </td><td> 13 </td><td> 26 </td><td> 19 </td><td> 17 </td><td>⋯   </td><td> 5  </td><td> 0  </td><td>0   </td><td> 1  </td><td> 5  </td><td> 1  </td><td> 1  </td><td> 2  </td><td> 4  </td><td> 3  </td></tr>\n",
       "\t<tr><td>907 </td><td>890 </td><td>590 </td><td>1198</td><td>3585</td><td>255 </td><td>165 </td><td>288 </td><td>199 </td><td>278 </td><td>⋯   </td><td> 7  </td><td> 0  </td><td>7   </td><td>10  </td><td>10  </td><td> 8  </td><td> 8  </td><td> 1  </td><td> 3  </td><td> 4  </td></tr>\n",
       "\t<tr><td>137 </td><td> 47 </td><td>124 </td><td> 106</td><td> 414</td><td> 47 </td><td> 14 </td><td> 33 </td><td> 42 </td><td> 22 </td><td>⋯   </td><td> 3  </td><td> 0  </td><td>2   </td><td> 2  </td><td> 1  </td><td> 2  </td><td> 5  </td><td> 3  </td><td> 4  </td><td> 7  </td></tr>\n",
       "\t<tr><td> 83 </td><td> 73 </td><td>114 </td><td> 141</td><td> 411</td><td> 23 </td><td> 11 </td><td> 23 </td><td> 25 </td><td> 20 </td><td>⋯   </td><td> 3  </td><td> 0  </td><td>1   </td><td> 2  </td><td> 2  </td><td> 7  </td><td> 2  </td><td> 2  </td><td> 1  </td><td> 2  </td></tr>\n",
       "\t<tr><td>405 </td><td>278 </td><td>462 </td><td> 354</td><td>1499</td><td>118 </td><td> 64 </td><td> 75 </td><td>148 </td><td> 85 </td><td>⋯   </td><td> 2  </td><td>16  </td><td>9   </td><td> 7  </td><td> 5  </td><td>17  </td><td> 8  </td><td> 5  </td><td> 9  </td><td> 7  </td></tr>\n",
       "\t<tr><td>672 </td><td>540 </td><td>611 </td><td> 752</td><td>2575</td><td>210 </td><td>100 </td><td>167 </td><td>194 </td><td>178 </td><td>⋯   </td><td>20  </td><td> 3  </td><td>4   </td><td> 3  </td><td>14  </td><td>11  </td><td>17  </td><td>12  </td><td>11  </td><td>13  </td></tr>\n",
       "</tbody>\n",
       "</table>\n"
      ],
      "text/latex": [
       "\\begin{tabular}{r|lllllllllllllllllllllllllllllllllllllllllllllllllllllllllllllllllllllllllllllllllllllllllllllllllllllllllllllllllllllllllllllllllllllllllllllllllllllllllllllllllllllllllllllllllllllllllllllllllllllllllllllllllllllllllllllllllllllllllllllllllllllllllllllllllllllllllllllllllllllllllllllllllllllllllllllllllllllllllllllllllllllllllllllllllllll}\n",
       " A & C & G & T & Total & AA & AC & AT & AG & CA & ⋯ & GGCT & GGCG & GGTA & GGTC & GGTT & GGTG & GGGA & GGGC & GGGT & GGGG\\\\\n",
       "\\hline\n",
       "\t  94  &  74  &  94  &  114 &  376 &  36  &  13  &  26  &  19  &  17  & ⋯    &  5   &  0   & 0    &  1   &  5   &  1   &  1   &  2   &  4   &  3  \\\\\n",
       "\t 907  & 890  & 590  & 1198 & 3585 & 255  & 165  & 288  & 199  & 278  & ⋯    &  7   &  0   & 7    & 10   & 10   &  8   &  8   &  1   &  3   &  4  \\\\\n",
       "\t 137  &  47  & 124  &  106 &  414 &  47  &  14  &  33  &  42  &  22  & ⋯    &  3   &  0   & 2    &  2   &  1   &  2   &  5   &  3   &  4   &  7  \\\\\n",
       "\t  83  &  73  & 114  &  141 &  411 &  23  &  11  &  23  &  25  &  20  & ⋯    &  3   &  0   & 1    &  2   &  2   &  7   &  2   &  2   &  1   &  2  \\\\\n",
       "\t 405  & 278  & 462  &  354 & 1499 & 118  &  64  &  75  & 148  &  85  & ⋯    &  2   & 16   & 9    &  7   &  5   & 17   &  8   &  5   &  9   &  7  \\\\\n",
       "\t 672  & 540  & 611  &  752 & 2575 & 210  & 100  & 167  & 194  & 178  & ⋯    & 20   &  3   & 4    &  3   & 14   & 11   & 17   & 12   & 11   & 13  \\\\\n",
       "\\end{tabular}\n"
      ],
      "text/markdown": [
       "\n",
       "A | C | G | T | Total | AA | AC | AT | AG | CA | ⋯ | GGCT | GGCG | GGTA | GGTC | GGTT | GGTG | GGGA | GGGC | GGGT | GGGG | \n",
       "|---|---|---|---|---|---|\n",
       "|  94  |  74  |  94  |  114 |  376 |  36  |  13  |  26  |  19  |  17  | ⋯    |  5   |  0   | 0    |  1   |  5   |  1   |  1   |  2   |  4   |  3   | \n",
       "| 907  | 890  | 590  | 1198 | 3585 | 255  | 165  | 288  | 199  | 278  | ⋯    |  7   |  0   | 7    | 10   | 10   |  8   |  8   |  1   |  3   |  4   | \n",
       "| 137  |  47  | 124  |  106 |  414 |  47  |  14  |  33  |  42  |  22  | ⋯    |  3   |  0   | 2    |  2   |  1   |  2   |  5   |  3   |  4   |  7   | \n",
       "|  83  |  73  | 114  |  141 |  411 |  23  |  11  |  23  |  25  |  20  | ⋯    |  3   |  0   | 1    |  2   |  2   |  7   |  2   |  2   |  1   |  2   | \n",
       "| 405  | 278  | 462  |  354 | 1499 | 118  |  64  |  75  | 148  |  85  | ⋯    |  2   | 16   | 9    |  7   |  5   | 17   |  8   |  5   |  9   |  7   | \n",
       "| 672  | 540  | 611  |  752 | 2575 | 210  | 100  | 167  | 194  | 178  | ⋯    | 20   |  3   | 4    |  3   | 14   | 11   | 17   | 12   | 11   | 13   | \n",
       "\n",
       "\n"
      ],
      "text/plain": [
       "  A   C   G   T    Total AA  AC  AT  AG  CA  ⋯ GGCT GGCG GGTA GGTC GGTT GGTG\n",
       "1  94  74  94  114  376   36  13  26  19  17 ⋯  5    0   0     1    5    1  \n",
       "2 907 890 590 1198 3585  255 165 288 199 278 ⋯  7    0   7    10   10    8  \n",
       "3 137  47 124  106  414   47  14  33  42  22 ⋯  3    0   2     2    1    2  \n",
       "4  83  73 114  141  411   23  11  23  25  20 ⋯  3    0   1     2    2    7  \n",
       "5 405 278 462  354 1499  118  64  75 148  85 ⋯  2   16   9     7    5   17  \n",
       "6 672 540 611  752 2575  210 100 167 194 178 ⋯ 20    3   4     3   14   11  \n",
       "  GGGA GGGC GGGT GGGG\n",
       "1  1    2    4    3  \n",
       "2  8    1    3    4  \n",
       "3  5    3    4    7  \n",
       "4  2    2    1    2  \n",
       "5  8    5    9    7  \n",
       "6 17   12   11   13  "
      ]
     },
     "metadata": {},
     "output_type": "display_data"
    },
    {
     "data": {
      "text/html": [
       "<table>\n",
       "<thead><tr><th scope=col>class_lev1</th><th scope=col>class_lev2</th><th scope=col>class_lev3</th><th scope=col>class_lev4</th></tr></thead>\n",
       "<tbody>\n",
       "\t<tr><td>1 </td><td>4 </td><td>NA</td><td>NA</td></tr>\n",
       "\t<tr><td>1 </td><td>4 </td><td>NA</td><td>NA</td></tr>\n",
       "\t<tr><td>1 </td><td>4 </td><td>NA</td><td>NA</td></tr>\n",
       "\t<tr><td>1 </td><td>4 </td><td>NA</td><td>NA</td></tr>\n",
       "\t<tr><td>1 </td><td>4 </td><td>NA</td><td>NA</td></tr>\n",
       "\t<tr><td>1 </td><td>4 </td><td>NA</td><td>NA</td></tr>\n",
       "</tbody>\n",
       "</table>\n"
      ],
      "text/latex": [
       "\\begin{tabular}{r|llll}\n",
       " class\\_lev1 & class\\_lev2 & class\\_lev3 & class\\_lev4\\\\\n",
       "\\hline\n",
       "\t 1  & 4  & NA & NA\\\\\n",
       "\t 1  & 4  & NA & NA\\\\\n",
       "\t 1  & 4  & NA & NA\\\\\n",
       "\t 1  & 4  & NA & NA\\\\\n",
       "\t 1  & 4  & NA & NA\\\\\n",
       "\t 1  & 4  & NA & NA\\\\\n",
       "\\end{tabular}\n"
      ],
      "text/markdown": [
       "\n",
       "class_lev1 | class_lev2 | class_lev3 | class_lev4 | \n",
       "|---|---|---|---|---|---|\n",
       "| 1  | 4  | NA | NA | \n",
       "| 1  | 4  | NA | NA | \n",
       "| 1  | 4  | NA | NA | \n",
       "| 1  | 4  | NA | NA | \n",
       "| 1  | 4  | NA | NA | \n",
       "| 1  | 4  | NA | NA | \n",
       "\n",
       "\n"
      ],
      "text/plain": [
       "  class_lev1 class_lev2 class_lev3 class_lev4\n",
       "1 1          4          NA         NA        \n",
       "2 1          4          NA         NA        \n",
       "3 1          4          NA         NA        \n",
       "4 1          4          NA         NA        \n",
       "5 1          4          NA         NA        \n",
       "6 1          4          NA         NA        "
      ]
     },
     "metadata": {},
     "output_type": "display_data"
    }
   ],
   "source": [
    "data <- read.csv('./raw_data')\n",
    "data[1:length(data[1,])] <- lapply(data[1:length(data[1,])], as.numeric)\n",
    "data_norm <- apply(data, 2, function(x)(x-min(x))/(max(x)-min(x))) \n",
    "target <- data[,(length(data[1,])-3):(length(data[1,]))]\n",
    "data <- data[,1:(length(data[1,])-4)]\n",
    "head(data)\n",
    "head(target)"
   ]
  },
  {
   "cell_type": "code",
   "execution_count": 3,
   "metadata": {
    "scrolled": false
   },
   "outputs": [
    {
     "data": {
      "text/html": [
       "<table>\n",
       "<thead><tr><th scope=col>target</th><th scope=col>A</th><th scope=col>C</th><th scope=col>G</th><th scope=col>T</th><th scope=col>Total</th><th scope=col>AA</th><th scope=col>AC</th><th scope=col>AT</th><th scope=col>AG</th><th scope=col>⋯</th><th scope=col>GGCT</th><th scope=col>GGCG</th><th scope=col>GGTA</th><th scope=col>GGTC</th><th scope=col>GGTT</th><th scope=col>GGTG</th><th scope=col>GGGA</th><th scope=col>GGGC</th><th scope=col>GGGT</th><th scope=col>GGGG</th></tr></thead>\n",
       "<tbody>\n",
       "\t<tr><td>1   </td><td> 94 </td><td> 74 </td><td> 94 </td><td> 114</td><td> 376</td><td> 36 </td><td> 13 </td><td> 26 </td><td> 19 </td><td>⋯   </td><td> 5  </td><td> 0  </td><td>0   </td><td> 1  </td><td> 5  </td><td> 1  </td><td> 1  </td><td> 2  </td><td> 4  </td><td> 3  </td></tr>\n",
       "\t<tr><td>1   </td><td>907 </td><td>890 </td><td>590 </td><td>1198</td><td>3585</td><td>255 </td><td>165 </td><td>288 </td><td>199 </td><td>⋯   </td><td> 7  </td><td> 0  </td><td>7   </td><td>10  </td><td>10  </td><td> 8  </td><td> 8  </td><td> 1  </td><td> 3  </td><td> 4  </td></tr>\n",
       "\t<tr><td>1   </td><td>137 </td><td> 47 </td><td>124 </td><td> 106</td><td> 414</td><td> 47 </td><td> 14 </td><td> 33 </td><td> 42 </td><td>⋯   </td><td> 3  </td><td> 0  </td><td>2   </td><td> 2  </td><td> 1  </td><td> 2  </td><td> 5  </td><td> 3  </td><td> 4  </td><td> 7  </td></tr>\n",
       "\t<tr><td>1   </td><td> 83 </td><td> 73 </td><td>114 </td><td> 141</td><td> 411</td><td> 23 </td><td> 11 </td><td> 23 </td><td> 25 </td><td>⋯   </td><td> 3  </td><td> 0  </td><td>1   </td><td> 2  </td><td> 2  </td><td> 7  </td><td> 2  </td><td> 2  </td><td> 1  </td><td> 2  </td></tr>\n",
       "\t<tr><td>1   </td><td>405 </td><td>278 </td><td>462 </td><td> 354</td><td>1499</td><td>118 </td><td> 64 </td><td> 75 </td><td>148 </td><td>⋯   </td><td> 2  </td><td>16  </td><td>9   </td><td> 7  </td><td> 5  </td><td>17  </td><td> 8  </td><td> 5  </td><td> 9  </td><td> 7  </td></tr>\n",
       "\t<tr><td>1   </td><td>672 </td><td>540 </td><td>611 </td><td> 752</td><td>2575</td><td>210 </td><td>100 </td><td>167 </td><td>194 </td><td>⋯   </td><td>20  </td><td> 3  </td><td>4   </td><td> 3  </td><td>14  </td><td>11  </td><td>17  </td><td>12  </td><td>11  </td><td>13  </td></tr>\n",
       "</tbody>\n",
       "</table>\n"
      ],
      "text/latex": [
       "\\begin{tabular}{r|llllllllllllllllllllllllllllllllllllllllllllllllllllllllllllllllllllllllllllllllllllllllllllllllllllllllllllllllllllllllllllllllllllllllllllllllllllllllllllllllllllllllllllllllllllllllllllllllllllllllllllllllllllllllllllllllllllllllllllllllllllllllllllllllllllllllllllllllllllllllllllllllllllllllllllllllllllllllllllllllllllllllllllllllllllll}\n",
       " target & A & C & G & T & Total & AA & AC & AT & AG & ⋯ & GGCT & GGCG & GGTA & GGTC & GGTT & GGTG & GGGA & GGGC & GGGT & GGGG\\\\\n",
       "\\hline\n",
       "\t 1    &  94  &  74  &  94  &  114 &  376 &  36  &  13  &  26  &  19  & ⋯    &  5   &  0   & 0    &  1   &  5   &  1   &  1   &  2   &  4   &  3  \\\\\n",
       "\t 1    & 907  & 890  & 590  & 1198 & 3585 & 255  & 165  & 288  & 199  & ⋯    &  7   &  0   & 7    & 10   & 10   &  8   &  8   &  1   &  3   &  4  \\\\\n",
       "\t 1    & 137  &  47  & 124  &  106 &  414 &  47  &  14  &  33  &  42  & ⋯    &  3   &  0   & 2    &  2   &  1   &  2   &  5   &  3   &  4   &  7  \\\\\n",
       "\t 1    &  83  &  73  & 114  &  141 &  411 &  23  &  11  &  23  &  25  & ⋯    &  3   &  0   & 1    &  2   &  2   &  7   &  2   &  2   &  1   &  2  \\\\\n",
       "\t 1    & 405  & 278  & 462  &  354 & 1499 & 118  &  64  &  75  & 148  & ⋯    &  2   & 16   & 9    &  7   &  5   & 17   &  8   &  5   &  9   &  7  \\\\\n",
       "\t 1    & 672  & 540  & 611  &  752 & 2575 & 210  & 100  & 167  & 194  & ⋯    & 20   &  3   & 4    &  3   & 14   & 11   & 17   & 12   & 11   & 13  \\\\\n",
       "\\end{tabular}\n"
      ],
      "text/markdown": [
       "\n",
       "target | A | C | G | T | Total | AA | AC | AT | AG | ⋯ | GGCT | GGCG | GGTA | GGTC | GGTT | GGTG | GGGA | GGGC | GGGT | GGGG | \n",
       "|---|---|---|---|---|---|\n",
       "| 1    |  94  |  74  |  94  |  114 |  376 |  36  |  13  |  26  |  19  | ⋯    |  5   |  0   | 0    |  1   |  5   |  1   |  1   |  2   |  4   |  3   | \n",
       "| 1    | 907  | 890  | 590  | 1198 | 3585 | 255  | 165  | 288  | 199  | ⋯    |  7   |  0   | 7    | 10   | 10   |  8   |  8   |  1   |  3   |  4   | \n",
       "| 1    | 137  |  47  | 124  |  106 |  414 |  47  |  14  |  33  |  42  | ⋯    |  3   |  0   | 2    |  2   |  1   |  2   |  5   |  3   |  4   |  7   | \n",
       "| 1    |  83  |  73  | 114  |  141 |  411 |  23  |  11  |  23  |  25  | ⋯    |  3   |  0   | 1    |  2   |  2   |  7   |  2   |  2   |  1   |  2   | \n",
       "| 1    | 405  | 278  | 462  |  354 | 1499 | 118  |  64  |  75  | 148  | ⋯    |  2   | 16   | 9    |  7   |  5   | 17   |  8   |  5   |  9   |  7   | \n",
       "| 1    | 672  | 540  | 611  |  752 | 2575 | 210  | 100  | 167  | 194  | ⋯    | 20   |  3   | 4    |  3   | 14   | 11   | 17   | 12   | 11   | 13   | \n",
       "\n",
       "\n"
      ],
      "text/plain": [
       "  target A   C   G   T    Total AA  AC  AT  AG  ⋯ GGCT GGCG GGTA GGTC GGTT GGTG\n",
       "1 1       94  74  94  114  376   36  13  26  19 ⋯  5    0   0     1    5    1  \n",
       "2 1      907 890 590 1198 3585  255 165 288 199 ⋯  7    0   7    10   10    8  \n",
       "3 1      137  47 124  106  414   47  14  33  42 ⋯  3    0   2     2    1    2  \n",
       "4 1       83  73 114  141  411   23  11  23  25 ⋯  3    0   1     2    2    7  \n",
       "5 1      405 278 462  354 1499  118  64  75 148 ⋯  2   16   9     7    5   17  \n",
       "6 1      672 540 611  752 2575  210 100 167 194 ⋯ 20    3   4     3   14   11  \n",
       "  GGGA GGGC GGGT GGGG\n",
       "1  1    2    4    3  \n",
       "2  8    1    3    4  \n",
       "3  5    3    4    7  \n",
       "4  2    2    1    2  \n",
       "5  8    5    9    7  \n",
       "6 17   12   11   13  "
      ]
     },
     "metadata": {},
     "output_type": "display_data"
    }
   ],
   "source": [
    "# Root node features\n",
    "indx <- !is.na(target[,1]) # Those with known class\n",
    "tmp <- cbind(target[indx,1],data[indx,])\n",
    "names(tmp)[1] <- 'target'\n",
    "head(tmp)\n",
    "# res_root <- mRMR.ensemble(data = mRMR.data(tmp), solution_count=5, target_indices = 1, feature_count = 300, method='bootstrap')\n",
    "res_root <- mRMR.ensemble(data = mRMR.data(tmp), solution_count=1, target_indices = 1, feature_count = 300, method='exhaustive')"
   ]
  },
  {
   "cell_type": "code",
   "execution_count": 4,
   "metadata": {},
   "outputs": [
    {
     "data": {
      "text/html": [
       "<table>\n",
       "<thead><tr><th scope=col>target</th><th scope=col>A</th><th scope=col>C</th><th scope=col>G</th><th scope=col>T</th><th scope=col>Total</th><th scope=col>AA</th><th scope=col>AC</th><th scope=col>AT</th><th scope=col>AG</th><th scope=col>⋯</th><th scope=col>GGCT</th><th scope=col>GGCG</th><th scope=col>GGTA</th><th scope=col>GGTC</th><th scope=col>GGTT</th><th scope=col>GGTG</th><th scope=col>GGGA</th><th scope=col>GGGC</th><th scope=col>GGGT</th><th scope=col>GGGG</th></tr></thead>\n",
       "<tbody>\n",
       "\t<tr><td>4   </td><td> 94 </td><td> 74 </td><td> 94 </td><td> 114</td><td> 376</td><td> 36 </td><td> 13 </td><td> 26 </td><td> 19 </td><td>⋯   </td><td> 5  </td><td> 0  </td><td>0   </td><td> 1  </td><td> 5  </td><td> 1  </td><td> 1  </td><td> 2  </td><td> 4  </td><td> 3  </td></tr>\n",
       "\t<tr><td>4   </td><td>907 </td><td>890 </td><td>590 </td><td>1198</td><td>3585</td><td>255 </td><td>165 </td><td>288 </td><td>199 </td><td>⋯   </td><td> 7  </td><td> 0  </td><td>7   </td><td>10  </td><td>10  </td><td> 8  </td><td> 8  </td><td> 1  </td><td> 3  </td><td> 4  </td></tr>\n",
       "\t<tr><td>4   </td><td>137 </td><td> 47 </td><td>124 </td><td> 106</td><td> 414</td><td> 47 </td><td> 14 </td><td> 33 </td><td> 42 </td><td>⋯   </td><td> 3  </td><td> 0  </td><td>2   </td><td> 2  </td><td> 1  </td><td> 2  </td><td> 5  </td><td> 3  </td><td> 4  </td><td> 7  </td></tr>\n",
       "\t<tr><td>4   </td><td> 83 </td><td> 73 </td><td>114 </td><td> 141</td><td> 411</td><td> 23 </td><td> 11 </td><td> 23 </td><td> 25 </td><td>⋯   </td><td> 3  </td><td> 0  </td><td>1   </td><td> 2  </td><td> 2  </td><td> 7  </td><td> 2  </td><td> 2  </td><td> 1  </td><td> 2  </td></tr>\n",
       "\t<tr><td>4   </td><td>405 </td><td>278 </td><td>462 </td><td> 354</td><td>1499</td><td>118 </td><td> 64 </td><td> 75 </td><td>148 </td><td>⋯   </td><td> 2  </td><td>16  </td><td>9   </td><td> 7  </td><td> 5  </td><td>17  </td><td> 8  </td><td> 5  </td><td> 9  </td><td> 7  </td></tr>\n",
       "\t<tr><td>4   </td><td>672 </td><td>540 </td><td>611 </td><td> 752</td><td>2575</td><td>210 </td><td>100 </td><td>167 </td><td>194 </td><td>⋯   </td><td>20  </td><td> 3  </td><td>4   </td><td> 3  </td><td>14  </td><td>11  </td><td>17  </td><td>12  </td><td>11  </td><td>13  </td></tr>\n",
       "</tbody>\n",
       "</table>\n"
      ],
      "text/latex": [
       "\\begin{tabular}{r|llllllllllllllllllllllllllllllllllllllllllllllllllllllllllllllllllllllllllllllllllllllllllllllllllllllllllllllllllllllllllllllllllllllllllllllllllllllllllllllllllllllllllllllllllllllllllllllllllllllllllllllllllllllllllllllllllllllllllllllllllllllllllllllllllllllllllllllllllllllllllllllllllllllllllllllllllllllllllllllllllllllllllllllllllllll}\n",
       " target & A & C & G & T & Total & AA & AC & AT & AG & ⋯ & GGCT & GGCG & GGTA & GGTC & GGTT & GGTG & GGGA & GGGC & GGGT & GGGG\\\\\n",
       "\\hline\n",
       "\t 4    &  94  &  74  &  94  &  114 &  376 &  36  &  13  &  26  &  19  & ⋯    &  5   &  0   & 0    &  1   &  5   &  1   &  1   &  2   &  4   &  3  \\\\\n",
       "\t 4    & 907  & 890  & 590  & 1198 & 3585 & 255  & 165  & 288  & 199  & ⋯    &  7   &  0   & 7    & 10   & 10   &  8   &  8   &  1   &  3   &  4  \\\\\n",
       "\t 4    & 137  &  47  & 124  &  106 &  414 &  47  &  14  &  33  &  42  & ⋯    &  3   &  0   & 2    &  2   &  1   &  2   &  5   &  3   &  4   &  7  \\\\\n",
       "\t 4    &  83  &  73  & 114  &  141 &  411 &  23  &  11  &  23  &  25  & ⋯    &  3   &  0   & 1    &  2   &  2   &  7   &  2   &  2   &  1   &  2  \\\\\n",
       "\t 4    & 405  & 278  & 462  &  354 & 1499 & 118  &  64  &  75  & 148  & ⋯    &  2   & 16   & 9    &  7   &  5   & 17   &  8   &  5   &  9   &  7  \\\\\n",
       "\t 4    & 672  & 540  & 611  &  752 & 2575 & 210  & 100  & 167  & 194  & ⋯    & 20   &  3   & 4    &  3   & 14   & 11   & 17   & 12   & 11   & 13  \\\\\n",
       "\\end{tabular}\n"
      ],
      "text/markdown": [
       "\n",
       "target | A | C | G | T | Total | AA | AC | AT | AG | ⋯ | GGCT | GGCG | GGTA | GGTC | GGTT | GGTG | GGGA | GGGC | GGGT | GGGG | \n",
       "|---|---|---|---|---|---|\n",
       "| 4    |  94  |  74  |  94  |  114 |  376 |  36  |  13  |  26  |  19  | ⋯    |  5   |  0   | 0    |  1   |  5   |  1   |  1   |  2   |  4   |  3   | \n",
       "| 4    | 907  | 890  | 590  | 1198 | 3585 | 255  | 165  | 288  | 199  | ⋯    |  7   |  0   | 7    | 10   | 10   |  8   |  8   |  1   |  3   |  4   | \n",
       "| 4    | 137  |  47  | 124  |  106 |  414 |  47  |  14  |  33  |  42  | ⋯    |  3   |  0   | 2    |  2   |  1   |  2   |  5   |  3   |  4   |  7   | \n",
       "| 4    |  83  |  73  | 114  |  141 |  411 |  23  |  11  |  23  |  25  | ⋯    |  3   |  0   | 1    |  2   |  2   |  7   |  2   |  2   |  1   |  2   | \n",
       "| 4    | 405  | 278  | 462  |  354 | 1499 | 118  |  64  |  75  | 148  | ⋯    |  2   | 16   | 9    |  7   |  5   | 17   |  8   |  5   |  9   |  7   | \n",
       "| 4    | 672  | 540  | 611  |  752 | 2575 | 210  | 100  | 167  | 194  | ⋯    | 20   |  3   | 4    |  3   | 14   | 11   | 17   | 12   | 11   | 13   | \n",
       "\n",
       "\n"
      ],
      "text/plain": [
       "  target A   C   G   T    Total AA  AC  AT  AG  ⋯ GGCT GGCG GGTA GGTC GGTT GGTG\n",
       "1 4       94  74  94  114  376   36  13  26  19 ⋯  5    0   0     1    5    1  \n",
       "2 4      907 890 590 1198 3585  255 165 288 199 ⋯  7    0   7    10   10    8  \n",
       "3 4      137  47 124  106  414   47  14  33  42 ⋯  3    0   2     2    1    2  \n",
       "4 4       83  73 114  141  411   23  11  23  25 ⋯  3    0   1     2    2    7  \n",
       "5 4      405 278 462  354 1499  118  64  75 148 ⋯  2   16   9     7    5   17  \n",
       "6 4      672 540 611  752 2575  210 100 167 194 ⋯ 20    3   4     3   14   11  \n",
       "  GGGA GGGC GGGT GGGG\n",
       "1  1    2    4    3  \n",
       "2  8    1    3    4  \n",
       "3  5    3    4    7  \n",
       "4  2    2    1    2  \n",
       "5  8    5    9    7  \n",
       "6 17   12   11   13  "
      ]
     },
     "metadata": {},
     "output_type": "display_data"
    }
   ],
   "source": [
    "# Class 1 node features\n",
    "indx <- target[,1]==1 & !is.na(target[,2]) # Those in class 1 with known order\n",
    "tmp <- cbind(target[indx,2],data[indx,])\n",
    "names(tmp)[1] <- 'target'\n",
    "head(tmp)\n",
    "# res_class1 <- mRMR.ensemble(data = mRMR.data(tmp), solution_count=5, target_indices = 1, feature_count = 300, method='bootstrap')\n",
    "res_class1 <- mRMR.ensemble(data = mRMR.data(tmp), solution_count=1, target_indices = 1, feature_count = 300, method='exhaustive')"
   ]
  },
  {
   "cell_type": "code",
   "execution_count": 5,
   "metadata": {},
   "outputs": [
    {
     "data": {
      "text/html": [
       "<table>\n",
       "<thead><tr><th></th><th scope=col>target</th><th scope=col>A</th><th scope=col>C</th><th scope=col>G</th><th scope=col>T</th><th scope=col>Total</th><th scope=col>AA</th><th scope=col>AC</th><th scope=col>AT</th><th scope=col>AG</th><th scope=col>⋯</th><th scope=col>GGCT</th><th scope=col>GGCG</th><th scope=col>GGTA</th><th scope=col>GGTC</th><th scope=col>GGTT</th><th scope=col>GGTG</th><th scope=col>GGGA</th><th scope=col>GGGC</th><th scope=col>GGGT</th><th scope=col>GGGG</th></tr></thead>\n",
       "<tbody>\n",
       "\t<tr><th scope=row>592</th><td>1   </td><td>2534</td><td>1900</td><td>2276</td><td>2516</td><td>9426</td><td>694 </td><td>505 </td><td>745 </td><td>589 </td><td>⋯   </td><td>13  </td><td>23  </td><td>34  </td><td>30  </td><td>41  </td><td>40  </td><td>30  </td><td>26  </td><td>27  </td><td>31  </td></tr>\n",
       "\t<tr><th scope=row>593</th><td>1   </td><td> 318</td><td> 199</td><td> 275</td><td> 298</td><td>1090</td><td> 79 </td><td> 64 </td><td>105 </td><td> 70 </td><td>⋯   </td><td> 1  </td><td> 0  </td><td> 7  </td><td> 2  </td><td> 7  </td><td> 7  </td><td> 7  </td><td> 4  </td><td> 7  </td><td> 7  </td></tr>\n",
       "\t<tr><th scope=row>595</th><td>1   </td><td>2219</td><td>1580</td><td>1965</td><td>2162</td><td>7926</td><td>607 </td><td>410 </td><td>688 </td><td>513 </td><td>⋯   </td><td>14  </td><td>14  </td><td>35  </td><td>27  </td><td>45  </td><td>34  </td><td>38  </td><td>22  </td><td>38  </td><td>25  </td></tr>\n",
       "\t<tr><th scope=row>596</th><td>1   </td><td> 442</td><td> 399</td><td> 409</td><td> 493</td><td>1743</td><td>105 </td><td>102 </td><td>141 </td><td> 93 </td><td>⋯   </td><td> 0  </td><td> 3  </td><td>10  </td><td> 5  </td><td> 7  </td><td> 7  </td><td> 6  </td><td> 8  </td><td> 5  </td><td>11  </td></tr>\n",
       "\t<tr><th scope=row>597</th><td>1   </td><td>  57</td><td>  56</td><td>  35</td><td> 108</td><td> 256</td><td> 10 </td><td> 11 </td><td> 27 </td><td>  9 </td><td>⋯   </td><td> 0  </td><td> 0  </td><td> 0  </td><td> 1  </td><td> 3  </td><td> 0  </td><td> 0  </td><td> 0  </td><td> 0  </td><td> 0  </td></tr>\n",
       "\t<tr><th scope=row>598</th><td>1   </td><td>2468</td><td>1627</td><td>1991</td><td>2458</td><td>8544</td><td>676 </td><td>463 </td><td>766 </td><td>562 </td><td>⋯   </td><td> 7  </td><td>13  </td><td>32  </td><td>21  </td><td>34  </td><td>37  </td><td>35  </td><td>17  </td><td>26  </td><td>19  </td></tr>\n",
       "</tbody>\n",
       "</table>\n"
      ],
      "text/latex": [
       "\\begin{tabular}{r|llllllllllllllllllllllllllllllllllllllllllllllllllllllllllllllllllllllllllllllllllllllllllllllllllllllllllllllllllllllllllllllllllllllllllllllllllllllllllllllllllllllllllllllllllllllllllllllllllllllllllllllllllllllllllllllllllllllllllllllllllllllllllllllllllllllllllllllllllllllllllllllllllllllllllllllllllllllllllllllllllllllllllllllllllllll}\n",
       "  & target & A & C & G & T & Total & AA & AC & AT & AG & ⋯ & GGCT & GGCG & GGTA & GGTC & GGTT & GGTG & GGGA & GGGC & GGGT & GGGG\\\\\n",
       "\\hline\n",
       "\t592 & 1    & 2534 & 1900 & 2276 & 2516 & 9426 & 694  & 505  & 745  & 589  & ⋯    & 13   & 23   & 34   & 30   & 41   & 40   & 30   & 26   & 27   & 31  \\\\\n",
       "\t593 & 1    &  318 &  199 &  275 &  298 & 1090 &  79  &  64  & 105  &  70  & ⋯    &  1   &  0   &  7   &  2   &  7   &  7   &  7   &  4   &  7   &  7  \\\\\n",
       "\t595 & 1    & 2219 & 1580 & 1965 & 2162 & 7926 & 607  & 410  & 688  & 513  & ⋯    & 14   & 14   & 35   & 27   & 45   & 34   & 38   & 22   & 38   & 25  \\\\\n",
       "\t596 & 1    &  442 &  399 &  409 &  493 & 1743 & 105  & 102  & 141  &  93  & ⋯    &  0   &  3   & 10   &  5   &  7   &  7   &  6   &  8   &  5   & 11  \\\\\n",
       "\t597 & 1    &   57 &   56 &   35 &  108 &  256 &  10  &  11  &  27  &   9  & ⋯    &  0   &  0   &  0   &  1   &  3   &  0   &  0   &  0   &  0   &  0  \\\\\n",
       "\t598 & 1    & 2468 & 1627 & 1991 & 2458 & 8544 & 676  & 463  & 766  & 562  & ⋯    &  7   & 13   & 32   & 21   & 34   & 37   & 35   & 17   & 26   & 19  \\\\\n",
       "\\end{tabular}\n"
      ],
      "text/markdown": [
       "\n",
       "| <!--/--> | target | A | C | G | T | Total | AA | AC | AT | AG | ⋯ | GGCT | GGCG | GGTA | GGTC | GGTT | GGTG | GGGA | GGGC | GGGT | GGGG | \n",
       "|---|---|---|---|---|---|\n",
       "| 592 | 1    | 2534 | 1900 | 2276 | 2516 | 9426 | 694  | 505  | 745  | 589  | ⋯    | 13   | 23   | 34   | 30   | 41   | 40   | 30   | 26   | 27   | 31   | \n",
       "| 593 | 1    |  318 |  199 |  275 |  298 | 1090 |  79  |  64  | 105  |  70  | ⋯    |  1   |  0   |  7   |  2   |  7   |  7   |  7   |  4   |  7   |  7   | \n",
       "| 595 | 1    | 2219 | 1580 | 1965 | 2162 | 7926 | 607  | 410  | 688  | 513  | ⋯    | 14   | 14   | 35   | 27   | 45   | 34   | 38   | 22   | 38   | 25   | \n",
       "| 596 | 1    |  442 |  399 |  409 |  493 | 1743 | 105  | 102  | 141  |  93  | ⋯    |  0   |  3   | 10   |  5   |  7   |  7   |  6   |  8   |  5   | 11   | \n",
       "| 597 | 1    |   57 |   56 |   35 |  108 |  256 |  10  |  11  |  27  |   9  | ⋯    |  0   |  0   |  0   |  1   |  3   |  0   |  0   |  0   |  0   |  0   | \n",
       "| 598 | 1    | 2468 | 1627 | 1991 | 2458 | 8544 | 676  | 463  | 766  | 562  | ⋯    |  7   | 13   | 32   | 21   | 34   | 37   | 35   | 17   | 26   | 19   | \n",
       "\n",
       "\n"
      ],
      "text/plain": [
       "    target A    C    G    T    Total AA  AC  AT  AG  ⋯ GGCT GGCG GGTA GGTC GGTT\n",
       "592 1      2534 1900 2276 2516 9426  694 505 745 589 ⋯ 13   23   34   30   41  \n",
       "593 1       318  199  275  298 1090   79  64 105  70 ⋯  1    0    7    2    7  \n",
       "595 1      2219 1580 1965 2162 7926  607 410 688 513 ⋯ 14   14   35   27   45  \n",
       "596 1       442  399  409  493 1743  105 102 141  93 ⋯  0    3   10    5    7  \n",
       "597 1        57   56   35  108  256   10  11  27   9 ⋯  0    0    0    1    3  \n",
       "598 1      2468 1627 1991 2458 8544  676 463 766 562 ⋯  7   13   32   21   34  \n",
       "    GGTG GGGA GGGC GGGT GGGG\n",
       "592 40   30   26   27   31  \n",
       "593  7    7    4    7    7  \n",
       "595 34   38   22   38   25  \n",
       "596  7    6    8    5   11  \n",
       "597  0    0    0    0    0  \n",
       "598 37   35   17   26   19  "
      ]
     },
     "metadata": {},
     "output_type": "display_data"
    }
   ],
   "source": [
    "# Class 1, Order LTR node features\n",
    "indx <- target[,1]==1 & target[,2]==1 & !is.na(target[,3]) # Those in class 1, order LTR with known superfamily\n",
    "tmp <- cbind(target[indx,3],data[indx,])\n",
    "names(tmp)[1] <- 'target'\n",
    "head(tmp)\n",
    "# res_class1orderLTR <- mRMR.ensemble(data = mRMR.data(tmp), solution_count=5, target_indices = 1, feature_count = 300, method='bootstrap')\n",
    "res_class1orderLTR <- mRMR.ensemble(data = mRMR.data(tmp), solution_count=1, target_indices = 1, feature_count = 300, method='exhaustive')"
   ]
  },
  {
   "cell_type": "code",
   "execution_count": 6,
   "metadata": {},
   "outputs": [
    {
     "name": "stdout",
     "output_type": "stream",
     "text": [
      "integer(0)\n"
     ]
    }
   ],
   "source": [
    "# Class 1, Order DIRS node features\n",
    "indx <- target[,1]==1 & target[,2]==2 & !is.na(target[,3]) # Those in class 1, order DIRS with known superfamily\n",
    "print(which(indx))"
   ]
  },
  {
   "cell_type": "code",
   "execution_count": 7,
   "metadata": {},
   "outputs": [
    {
     "data": {
      "text/html": [
       "<table>\n",
       "<thead><tr><th></th><th scope=col>target</th><th scope=col>A</th><th scope=col>C</th><th scope=col>G</th><th scope=col>T</th><th scope=col>Total</th><th scope=col>AA</th><th scope=col>AC</th><th scope=col>AT</th><th scope=col>AG</th><th scope=col>⋯</th><th scope=col>GGCT</th><th scope=col>GGCG</th><th scope=col>GGTA</th><th scope=col>GGTC</th><th scope=col>GGTT</th><th scope=col>GGTG</th><th scope=col>GGGA</th><th scope=col>GGGC</th><th scope=col>GGGT</th><th scope=col>GGGG</th></tr></thead>\n",
       "<tbody>\n",
       "\t<tr><th scope=row>14163</th><td>3   </td><td>1215</td><td>1356</td><td>959 </td><td> 816</td><td>4346</td><td>386 </td><td>339 </td><td>185 </td><td>304 </td><td>⋯   </td><td>14  </td><td> 6  </td><td> 9  </td><td>9   </td><td> 9  </td><td> 7  </td><td>12  </td><td>3   </td><td>6   </td><td>8   </td></tr>\n",
       "\t<tr><th scope=row>14164</th><td>3   </td><td>1962</td><td>1114</td><td>776 </td><td>1371</td><td>5223</td><td>743 </td><td>418 </td><td>511 </td><td>289 </td><td>⋯   </td><td> 4  </td><td> 2  </td><td> 7  </td><td>8   </td><td> 7  </td><td>13  </td><td> 2  </td><td>1   </td><td>6   </td><td>3   </td></tr>\n",
       "\t<tr><th scope=row>14165</th><td>3   </td><td>1306</td><td> 957</td><td>851 </td><td> 885</td><td>4004</td><td>432 </td><td>298 </td><td>292 </td><td>279 </td><td>⋯   </td><td>18  </td><td> 4  </td><td>15  </td><td>7   </td><td>10  </td><td>10  </td><td>14  </td><td>7   </td><td>3   </td><td>7   </td></tr>\n",
       "\t<tr><th scope=row>14166</th><td>3   </td><td> 417</td><td> 306</td><td>265 </td><td> 327</td><td>1317</td><td>126 </td><td> 93 </td><td>117 </td><td> 81 </td><td>⋯   </td><td> 5  </td><td> 0  </td><td> 2  </td><td>2   </td><td> 2  </td><td> 6  </td><td> 6  </td><td>2   </td><td>0   </td><td>1   </td></tr>\n",
       "\t<tr><th scope=row>14167</th><td>3   </td><td>1628</td><td>1310</td><td>755 </td><td>1185</td><td>4880</td><td>620 </td><td>412 </td><td>414 </td><td>182 </td><td>⋯   </td><td>11  </td><td>14  </td><td> 5  </td><td>5   </td><td> 6  </td><td>12  </td><td> 6  </td><td>9   </td><td>2   </td><td>8   </td></tr>\n",
       "\t<tr><th scope=row>14168</th><td>3   </td><td>1451</td><td>1221</td><td>652 </td><td>1022</td><td>4347</td><td>500 </td><td>375 </td><td>395 </td><td>180 </td><td>⋯   </td><td>10  </td><td> 4  </td><td> 3  </td><td>1   </td><td> 4  </td><td> 2  </td><td> 1  </td><td>3   </td><td>3   </td><td>0   </td></tr>\n",
       "</tbody>\n",
       "</table>\n"
      ],
      "text/latex": [
       "\\begin{tabular}{r|llllllllllllllllllllllllllllllllllllllllllllllllllllllllllllllllllllllllllllllllllllllllllllllllllllllllllllllllllllllllllllllllllllllllllllllllllllllllllllllllllllllllllllllllllllllllllllllllllllllllllllllllllllllllllllllllllllllllllllllllllllllllllllllllllllllllllllllllllllllllllllllllllllllllllllllllllllllllllllllllllllllllllllllllllllll}\n",
       "  & target & A & C & G & T & Total & AA & AC & AT & AG & ⋯ & GGCT & GGCG & GGTA & GGTC & GGTT & GGTG & GGGA & GGGC & GGGT & GGGG\\\\\n",
       "\\hline\n",
       "\t14163 & 3    & 1215 & 1356 & 959  &  816 & 4346 & 386  & 339  & 185  & 304  & ⋯    & 14   &  6   &  9   & 9    &  9   &  7   & 12   & 3    & 6    & 8   \\\\\n",
       "\t14164 & 3    & 1962 & 1114 & 776  & 1371 & 5223 & 743  & 418  & 511  & 289  & ⋯    &  4   &  2   &  7   & 8    &  7   & 13   &  2   & 1    & 6    & 3   \\\\\n",
       "\t14165 & 3    & 1306 &  957 & 851  &  885 & 4004 & 432  & 298  & 292  & 279  & ⋯    & 18   &  4   & 15   & 7    & 10   & 10   & 14   & 7    & 3    & 7   \\\\\n",
       "\t14166 & 3    &  417 &  306 & 265  &  327 & 1317 & 126  &  93  & 117  &  81  & ⋯    &  5   &  0   &  2   & 2    &  2   &  6   &  6   & 2    & 0    & 1   \\\\\n",
       "\t14167 & 3    & 1628 & 1310 & 755  & 1185 & 4880 & 620  & 412  & 414  & 182  & ⋯    & 11   & 14   &  5   & 5    &  6   & 12   &  6   & 9    & 2    & 8   \\\\\n",
       "\t14168 & 3    & 1451 & 1221 & 652  & 1022 & 4347 & 500  & 375  & 395  & 180  & ⋯    & 10   &  4   &  3   & 1    &  4   &  2   &  1   & 3    & 3    & 0   \\\\\n",
       "\\end{tabular}\n"
      ],
      "text/markdown": [
       "\n",
       "| <!--/--> | target | A | C | G | T | Total | AA | AC | AT | AG | ⋯ | GGCT | GGCG | GGTA | GGTC | GGTT | GGTG | GGGA | GGGC | GGGT | GGGG | \n",
       "|---|---|---|---|---|---|\n",
       "| 14163 | 3    | 1215 | 1356 | 959  |  816 | 4346 | 386  | 339  | 185  | 304  | ⋯    | 14   |  6   |  9   | 9    |  9   |  7   | 12   | 3    | 6    | 8    | \n",
       "| 14164 | 3    | 1962 | 1114 | 776  | 1371 | 5223 | 743  | 418  | 511  | 289  | ⋯    |  4   |  2   |  7   | 8    |  7   | 13   |  2   | 1    | 6    | 3    | \n",
       "| 14165 | 3    | 1306 |  957 | 851  |  885 | 4004 | 432  | 298  | 292  | 279  | ⋯    | 18   |  4   | 15   | 7    | 10   | 10   | 14   | 7    | 3    | 7    | \n",
       "| 14166 | 3    |  417 |  306 | 265  |  327 | 1317 | 126  |  93  | 117  |  81  | ⋯    |  5   |  0   |  2   | 2    |  2   |  6   |  6   | 2    | 0    | 1    | \n",
       "| 14167 | 3    | 1628 | 1310 | 755  | 1185 | 4880 | 620  | 412  | 414  | 182  | ⋯    | 11   | 14   |  5   | 5    |  6   | 12   |  6   | 9    | 2    | 8    | \n",
       "| 14168 | 3    | 1451 | 1221 | 652  | 1022 | 4347 | 500  | 375  | 395  | 180  | ⋯    | 10   |  4   |  3   | 1    |  4   |  2   |  1   | 3    | 3    | 0    | \n",
       "\n",
       "\n"
      ],
      "text/plain": [
       "      target A    C    G   T    Total AA  AC  AT  AG  ⋯ GGCT GGCG GGTA GGTC\n",
       "14163 3      1215 1356 959  816 4346  386 339 185 304 ⋯ 14    6    9   9   \n",
       "14164 3      1962 1114 776 1371 5223  743 418 511 289 ⋯  4    2    7   8   \n",
       "14165 3      1306  957 851  885 4004  432 298 292 279 ⋯ 18    4   15   7   \n",
       "14166 3       417  306 265  327 1317  126  93 117  81 ⋯  5    0    2   2   \n",
       "14167 3      1628 1310 755 1185 4880  620 412 414 182 ⋯ 11   14    5   5   \n",
       "14168 3      1451 1221 652 1022 4347  500 375 395 180 ⋯ 10    4    3   1   \n",
       "      GGTT GGTG GGGA GGGC GGGT GGGG\n",
       "14163  9    7   12   3    6    8   \n",
       "14164  7   13    2   1    6    3   \n",
       "14165 10   10   14   7    3    7   \n",
       "14166  2    6    6   2    0    1   \n",
       "14167  6   12    6   9    2    8   \n",
       "14168  4    2    1   3    3    0   "
      ]
     },
     "metadata": {},
     "output_type": "display_data"
    }
   ],
   "source": [
    "# Class 1, Order LINE node features\n",
    "indx <- target[,1]==1 & target[,2]==4 & !is.na(target[,3]) # Those in class 1, order LINE with known superfamily\n",
    "tmp <- cbind(target[indx,3],data[indx,])\n",
    "names(tmp)[1] <- 'target'\n",
    "head(tmp)\n",
    "# res_class1orderLINE <- mRMR.ensemble(data = mRMR.data(tmp), solution_count=5, target_indices = 1, feature_count = 300, method='bootstrap')\n",
    "res_class1orderLINE <- mRMR.ensemble(data = mRMR.data(tmp), solution_count=1, target_indices = 1, feature_count = 300, method='exhaustive')"
   ]
  },
  {
   "cell_type": "code",
   "execution_count": 8,
   "metadata": {},
   "outputs": [
    {
     "data": {
      "text/html": [
       "<table>\n",
       "<thead><tr><th></th><th scope=col>target</th><th scope=col>A</th><th scope=col>C</th><th scope=col>G</th><th scope=col>T</th><th scope=col>Total</th><th scope=col>AA</th><th scope=col>AC</th><th scope=col>AT</th><th scope=col>AG</th><th scope=col>⋯</th><th scope=col>GGCT</th><th scope=col>GGCG</th><th scope=col>GGTA</th><th scope=col>GGTC</th><th scope=col>GGTT</th><th scope=col>GGTG</th><th scope=col>GGGA</th><th scope=col>GGGC</th><th scope=col>GGGT</th><th scope=col>GGGG</th></tr></thead>\n",
       "<tbody>\n",
       "\t<tr><th scope=row>14355</th><td>3  </td><td> 83</td><td> 96</td><td> 98</td><td> 71</td><td>348</td><td>21 </td><td>24 </td><td>16 </td><td>22 </td><td>⋯  </td><td>3  </td><td>2  </td><td>2  </td><td>1  </td><td>1  </td><td>2  </td><td>4  </td><td>1  </td><td>2  </td><td>1  </td></tr>\n",
       "\t<tr><th scope=row>14356</th><td>1  </td><td>117</td><td>110</td><td>136</td><td>110</td><td>474</td><td>39 </td><td>18 </td><td>22 </td><td>36 </td><td>⋯  </td><td>3  </td><td>2  </td><td>1  </td><td>0  </td><td>2  </td><td>3  </td><td>3  </td><td>2  </td><td>2  </td><td>3  </td></tr>\n",
       "\t<tr><th scope=row>14363</th><td>1  </td><td> 45</td><td> 48</td><td> 65</td><td> 60</td><td>218</td><td>14 </td><td> 9 </td><td> 7 </td><td>15 </td><td>⋯  </td><td>1  </td><td>1  </td><td>0  </td><td>2  </td><td>4  </td><td>1  </td><td>1  </td><td>1  </td><td>2  </td><td>1  </td></tr>\n",
       "\t<tr><th scope=row>14364</th><td>1  </td><td> 56</td><td> 55</td><td> 55</td><td> 39</td><td>205</td><td>18 </td><td>17 </td><td> 6 </td><td>14 </td><td>⋯  </td><td>0  </td><td>2  </td><td>0  </td><td>2  </td><td>3  </td><td>2  </td><td>0  </td><td>0  </td><td>2  </td><td>1  </td></tr>\n",
       "\t<tr><th scope=row>14365</th><td>1  </td><td> 39</td><td> 42</td><td> 63</td><td> 41</td><td>185</td><td>12 </td><td> 8 </td><td> 6 </td><td>13 </td><td>⋯  </td><td>1  </td><td>2  </td><td>0  </td><td>2  </td><td>4  </td><td>1  </td><td>1  </td><td>0  </td><td>2  </td><td>1  </td></tr>\n",
       "\t<tr><th scope=row>14366</th><td>1  </td><td> 52</td><td> 61</td><td> 59</td><td> 35</td><td>207</td><td>18 </td><td>16 </td><td> 6 </td><td>11 </td><td>⋯  </td><td>2  </td><td>3  </td><td>0  </td><td>1  </td><td>3  </td><td>1  </td><td>1  </td><td>1  </td><td>1  </td><td>2  </td></tr>\n",
       "</tbody>\n",
       "</table>\n"
      ],
      "text/latex": [
       "\\begin{tabular}{r|llllllllllllllllllllllllllllllllllllllllllllllllllllllllllllllllllllllllllllllllllllllllllllllllllllllllllllllllllllllllllllllllllllllllllllllllllllllllllllllllllllllllllllllllllllllllllllllllllllllllllllllllllllllllllllllllllllllllllllllllllllllllllllllllllllllllllllllllllllllllllllllllllllllllllllllllllllllllllllllllllllllllllllllllllllll}\n",
       "  & target & A & C & G & T & Total & AA & AC & AT & AG & ⋯ & GGCT & GGCG & GGTA & GGTC & GGTT & GGTG & GGGA & GGGC & GGGT & GGGG\\\\\n",
       "\\hline\n",
       "\t14355 & 3   &  83 &  96 &  98 &  71 & 348 & 21  & 24  & 16  & 22  & ⋯   & 3   & 2   & 2   & 1   & 1   & 2   & 4   & 1   & 2   & 1  \\\\\n",
       "\t14356 & 1   & 117 & 110 & 136 & 110 & 474 & 39  & 18  & 22  & 36  & ⋯   & 3   & 2   & 1   & 0   & 2   & 3   & 3   & 2   & 2   & 3  \\\\\n",
       "\t14363 & 1   &  45 &  48 &  65 &  60 & 218 & 14  &  9  &  7  & 15  & ⋯   & 1   & 1   & 0   & 2   & 4   & 1   & 1   & 1   & 2   & 1  \\\\\n",
       "\t14364 & 1   &  56 &  55 &  55 &  39 & 205 & 18  & 17  &  6  & 14  & ⋯   & 0   & 2   & 0   & 2   & 3   & 2   & 0   & 0   & 2   & 1  \\\\\n",
       "\t14365 & 1   &  39 &  42 &  63 &  41 & 185 & 12  &  8  &  6  & 13  & ⋯   & 1   & 2   & 0   & 2   & 4   & 1   & 1   & 0   & 2   & 1  \\\\\n",
       "\t14366 & 1   &  52 &  61 &  59 &  35 & 207 & 18  & 16  &  6  & 11  & ⋯   & 2   & 3   & 0   & 1   & 3   & 1   & 1   & 1   & 1   & 2  \\\\\n",
       "\\end{tabular}\n"
      ],
      "text/markdown": [
       "\n",
       "| <!--/--> | target | A | C | G | T | Total | AA | AC | AT | AG | ⋯ | GGCT | GGCG | GGTA | GGTC | GGTT | GGTG | GGGA | GGGC | GGGT | GGGG | \n",
       "|---|---|---|---|---|---|\n",
       "| 14355 | 3   |  83 |  96 |  98 |  71 | 348 | 21  | 24  | 16  | 22  | ⋯   | 3   | 2   | 2   | 1   | 1   | 2   | 4   | 1   | 2   | 1   | \n",
       "| 14356 | 1   | 117 | 110 | 136 | 110 | 474 | 39  | 18  | 22  | 36  | ⋯   | 3   | 2   | 1   | 0   | 2   | 3   | 3   | 2   | 2   | 3   | \n",
       "| 14363 | 1   |  45 |  48 |  65 |  60 | 218 | 14  |  9  |  7  | 15  | ⋯   | 1   | 1   | 0   | 2   | 4   | 1   | 1   | 1   | 2   | 1   | \n",
       "| 14364 | 1   |  56 |  55 |  55 |  39 | 205 | 18  | 17  |  6  | 14  | ⋯   | 0   | 2   | 0   | 2   | 3   | 2   | 0   | 0   | 2   | 1   | \n",
       "| 14365 | 1   |  39 |  42 |  63 |  41 | 185 | 12  |  8  |  6  | 13  | ⋯   | 1   | 2   | 0   | 2   | 4   | 1   | 1   | 0   | 2   | 1   | \n",
       "| 14366 | 1   |  52 |  61 |  59 |  35 | 207 | 18  | 16  |  6  | 11  | ⋯   | 2   | 3   | 0   | 1   | 3   | 1   | 1   | 1   | 1   | 2   | \n",
       "\n",
       "\n"
      ],
      "text/plain": [
       "      target A   C   G   T   Total AA AC AT AG ⋯ GGCT GGCG GGTA GGTC GGTT GGTG\n",
       "14355 3       83  96  98  71 348   21 24 16 22 ⋯ 3    2    2    1    1    2   \n",
       "14356 1      117 110 136 110 474   39 18 22 36 ⋯ 3    2    1    0    2    3   \n",
       "14363 1       45  48  65  60 218   14  9  7 15 ⋯ 1    1    0    2    4    1   \n",
       "14364 1       56  55  55  39 205   18 17  6 14 ⋯ 0    2    0    2    3    2   \n",
       "14365 1       39  42  63  41 185   12  8  6 13 ⋯ 1    2    0    2    4    1   \n",
       "14366 1       52  61  59  35 207   18 16  6 11 ⋯ 2    3    0    1    3    1   \n",
       "      GGGA GGGC GGGT GGGG\n",
       "14355 4    1    2    1   \n",
       "14356 3    2    2    3   \n",
       "14363 1    1    2    1   \n",
       "14364 0    0    2    1   \n",
       "14365 1    0    2    1   \n",
       "14366 1    1    1    2   "
      ]
     },
     "metadata": {},
     "output_type": "display_data"
    }
   ],
   "source": [
    "# Class 1, Order SINE node features\n",
    "indx <- target[,1]==1 & target[,2]==5 & !is.na(target[,3]) # Those in class 1, order LINE with known superfamily\n",
    "tmp <- cbind(target[indx,3],data[indx,])\n",
    "names(tmp)[1] <- 'target'\n",
    "head(tmp)\n",
    "# res_class1orderSINE <- mRMR.ensemble(data = mRMR.data(tmp), solution_count=5, target_indices = 1, feature_count = 300, method='bootstrap')\n",
    "res_class1orderSINE <- mRMR.ensemble(data = mRMR.data(tmp), solution_count=1, target_indices = 1, feature_count = 300, method='exhaustive')"
   ]
  },
  {
   "cell_type": "code",
   "execution_count": 9,
   "metadata": {},
   "outputs": [
    {
     "data": {
      "text/html": [
       "<table>\n",
       "<thead><tr><th></th><th scope=col>target</th><th scope=col>A</th><th scope=col>C</th><th scope=col>G</th><th scope=col>T</th><th scope=col>Total</th><th scope=col>AA</th><th scope=col>AC</th><th scope=col>AT</th><th scope=col>AG</th><th scope=col>⋯</th><th scope=col>GGCT</th><th scope=col>GGCG</th><th scope=col>GGTA</th><th scope=col>GGTC</th><th scope=col>GGTT</th><th scope=col>GGTG</th><th scope=col>GGGA</th><th scope=col>GGGC</th><th scope=col>GGGT</th><th scope=col>GGGG</th></tr></thead>\n",
       "<tbody>\n",
       "\t<tr><th scope=row>11086</th><td>9    </td><td>2500 </td><td>2206 </td><td>2201 </td><td>2374 </td><td> 9281</td><td>728  </td><td>585  </td><td>603  </td><td>584  </td><td>⋯    </td><td>34   </td><td>28   </td><td>26   </td><td>31   </td><td>25   </td><td>53   </td><td>30   </td><td>37   </td><td>28   </td><td>30   </td></tr>\n",
       "\t<tr><th scope=row>11087</th><td>9    </td><td>  26 </td><td>  39 </td><td>  39 </td><td>  37 </td><td>  141</td><td>  5  </td><td>  3  </td><td> 12  </td><td>  6  </td><td>⋯    </td><td> 1   </td><td> 0   </td><td> 0   </td><td> 0   </td><td> 0   </td><td> 1   </td><td> 0   </td><td> 0   </td><td> 0   </td><td> 0   </td></tr>\n",
       "\t<tr><th scope=row>11088</th><td>9    </td><td> 129 </td><td> 140 </td><td> 202 </td><td> 126 </td><td>  597</td><td> 24  </td><td> 23  </td><td> 29  </td><td> 53  </td><td>⋯    </td><td> 3   </td><td> 7   </td><td> 1   </td><td> 1   </td><td> 3   </td><td> 2   </td><td> 5   </td><td> 6   </td><td> 3   </td><td> 2   </td></tr>\n",
       "\t<tr><th scope=row>11089</th><td>9    </td><td>3192 </td><td>2829 </td><td>2979 </td><td>2999 </td><td>12099</td><td>870  </td><td>702  </td><td>853  </td><td>767  </td><td>⋯    </td><td>26   </td><td>57   </td><td>32   </td><td>28   </td><td>45   </td><td>56   </td><td>35   </td><td>47   </td><td>34   </td><td>53   </td></tr>\n",
       "\t<tr><th scope=row>11090</th><td>9    </td><td> 399 </td><td> 493 </td><td> 393 </td><td> 327 </td><td> 1612</td><td>109  </td><td>103  </td><td> 96  </td><td> 91  </td><td>⋯    </td><td> 5   </td><td>12   </td><td> 2   </td><td> 4   </td><td> 5   </td><td> 7   </td><td> 1   </td><td> 6   </td><td> 4   </td><td> 8   </td></tr>\n",
       "\t<tr><th scope=row>11091</th><td>9    </td><td>2068 </td><td> 930 </td><td>1255 </td><td>1864 </td><td> 6117</td><td>714  </td><td>297  </td><td>645  </td><td>412  </td><td>⋯    </td><td>12   </td><td> 5   </td><td>19   </td><td> 9   </td><td>24   </td><td>19   </td><td>16   </td><td> 9   </td><td>15   </td><td> 7   </td></tr>\n",
       "</tbody>\n",
       "</table>\n"
      ],
      "text/latex": [
       "\\begin{tabular}{r|llllllllllllllllllllllllllllllllllllllllllllllllllllllllllllllllllllllllllllllllllllllllllllllllllllllllllllllllllllllllllllllllllllllllllllllllllllllllllllllllllllllllllllllllllllllllllllllllllllllllllllllllllllllllllllllllllllllllllllllllllllllllllllllllllllllllllllllllllllllllllllllllllllllllllllllllllllllllllllllllllllllllllllllllllllll}\n",
       "  & target & A & C & G & T & Total & AA & AC & AT & AG & ⋯ & GGCT & GGCG & GGTA & GGTC & GGTT & GGTG & GGGA & GGGC & GGGT & GGGG\\\\\n",
       "\\hline\n",
       "\t11086 & 9     & 2500  & 2206  & 2201  & 2374  &  9281 & 728   & 585   & 603   & 584   & ⋯     & 34    & 28    & 26    & 31    & 25    & 53    & 30    & 37    & 28    & 30   \\\\\n",
       "\t11087 & 9     &   26  &   39  &   39  &   37  &   141 &   5   &   3   &  12   &   6   & ⋯     &  1    &  0    &  0    &  0    &  0    &  1    &  0    &  0    &  0    &  0   \\\\\n",
       "\t11088 & 9     &  129  &  140  &  202  &  126  &   597 &  24   &  23   &  29   &  53   & ⋯     &  3    &  7    &  1    &  1    &  3    &  2    &  5    &  6    &  3    &  2   \\\\\n",
       "\t11089 & 9     & 3192  & 2829  & 2979  & 2999  & 12099 & 870   & 702   & 853   & 767   & ⋯     & 26    & 57    & 32    & 28    & 45    & 56    & 35    & 47    & 34    & 53   \\\\\n",
       "\t11090 & 9     &  399  &  493  &  393  &  327  &  1612 & 109   & 103   &  96   &  91   & ⋯     &  5    & 12    &  2    &  4    &  5    &  7    &  1    &  6    &  4    &  8   \\\\\n",
       "\t11091 & 9     & 2068  &  930  & 1255  & 1864  &  6117 & 714   & 297   & 645   & 412   & ⋯     & 12    &  5    & 19    &  9    & 24    & 19    & 16    &  9    & 15    &  7   \\\\\n",
       "\\end{tabular}\n"
      ],
      "text/markdown": [
       "\n",
       "| <!--/--> | target | A | C | G | T | Total | AA | AC | AT | AG | ⋯ | GGCT | GGCG | GGTA | GGTC | GGTT | GGTG | GGGA | GGGC | GGGT | GGGG | \n",
       "|---|---|---|---|---|---|\n",
       "| 11086 | 9     | 2500  | 2206  | 2201  | 2374  |  9281 | 728   | 585   | 603   | 584   | ⋯     | 34    | 28    | 26    | 31    | 25    | 53    | 30    | 37    | 28    | 30    | \n",
       "| 11087 | 9     |   26  |   39  |   39  |   37  |   141 |   5   |   3   |  12   |   6   | ⋯     |  1    |  0    |  0    |  0    |  0    |  1    |  0    |  0    |  0    |  0    | \n",
       "| 11088 | 9     |  129  |  140  |  202  |  126  |   597 |  24   |  23   |  29   |  53   | ⋯     |  3    |  7    |  1    |  1    |  3    |  2    |  5    |  6    |  3    |  2    | \n",
       "| 11089 | 9     | 3192  | 2829  | 2979  | 2999  | 12099 | 870   | 702   | 853   | 767   | ⋯     | 26    | 57    | 32    | 28    | 45    | 56    | 35    | 47    | 34    | 53    | \n",
       "| 11090 | 9     |  399  |  493  |  393  |  327  |  1612 | 109   | 103   |  96   |  91   | ⋯     |  5    | 12    |  2    |  4    |  5    |  7    |  1    |  6    |  4    |  8    | \n",
       "| 11091 | 9     | 2068  |  930  | 1255  | 1864  |  6117 | 714   | 297   | 645   | 412   | ⋯     | 12    |  5    | 19    |  9    | 24    | 19    | 16    |  9    | 15    |  7    | \n",
       "\n",
       "\n"
      ],
      "text/plain": [
       "      target A    C    G    T    Total AA  AC  AT  AG  ⋯ GGCT GGCG GGTA GGTC\n",
       "11086 9      2500 2206 2201 2374  9281 728 585 603 584 ⋯ 34   28   26   31  \n",
       "11087 9        26   39   39   37   141   5   3  12   6 ⋯  1    0    0    0  \n",
       "11088 9       129  140  202  126   597  24  23  29  53 ⋯  3    7    1    1  \n",
       "11089 9      3192 2829 2979 2999 12099 870 702 853 767 ⋯ 26   57   32   28  \n",
       "11090 9       399  493  393  327  1612 109 103  96  91 ⋯  5   12    2    4  \n",
       "11091 9      2068  930 1255 1864  6117 714 297 645 412 ⋯ 12    5   19    9  \n",
       "      GGTT GGTG GGGA GGGC GGGT GGGG\n",
       "11086 25   53   30   37   28   30  \n",
       "11087  0    1    0    0    0    0  \n",
       "11088  3    2    5    6    3    2  \n",
       "11089 45   56   35   47   34   53  \n",
       "11090  5    7    1    6    4    8  \n",
       "11091 24   19   16    9   15    7  "
      ]
     },
     "metadata": {},
     "output_type": "display_data"
    }
   ],
   "source": [
    "# Class 2, Subclass 1, Order TIR node features\n",
    "indx <- target[,1]==2 & !is.na(target[,4]) # Those in class 2 with known superfamily (All in Class 2 have subclass 1 and order TIR)\n",
    "tmp <- cbind(target[indx,4],data[indx,])\n",
    "names(tmp)[1] <- 'target'\n",
    "head(tmp)\n",
    "# res_class2 <- mRMR.ensemble(data = mRMR.data(tmp), solution_count=5, target_indices = 1, feature_count = 300, method='bootstrap')\n",
    "res_class2 <- mRMR.ensemble(data = mRMR.data(tmp), solution_count=1, target_indices = 1, feature_count = 300, method='exhaustive')\n",
    "rm(indx,tmp,target)"
   ]
  },
  {
   "cell_type": "code",
   "execution_count": 11,
   "metadata": {},
   "outputs": [
    {
     "data": {
      "text/html": [
       "<table>\n",
       "<thead><tr><th scope=col>root</th><th scope=col>class1</th><th scope=col>class1OrderLTR</th><th scope=col>class1OrderLINE</th><th scope=col>class1OrderSINE</th><th scope=col>class2</th></tr></thead>\n",
       "<tbody>\n",
       "\t<tr><td>288</td><td>145</td><td>265</td><td>128</td><td>294</td><td>237</td></tr>\n",
       "\t<tr><td>206</td><td>206</td><td>206</td><td>212</td><td>337</td><td>247</td></tr>\n",
       "\t<tr><td>247</td><td> 87</td><td> 87</td><td>339</td><td>157</td><td>206</td></tr>\n",
       "\t<tr><td>164</td><td>164</td><td>164</td><td>223</td><td>317</td><td>172</td></tr>\n",
       "\t<tr><td>269</td><td>189</td><td>189</td><td>171</td><td>178</td><td>223</td></tr>\n",
       "\t<tr><td>342</td><td>342</td><td>342</td><td>257</td><td>184</td><td> 94</td></tr>\n",
       "</tbody>\n",
       "</table>\n"
      ],
      "text/latex": [
       "\\begin{tabular}{r|llllll}\n",
       " root & class1 & class1OrderLTR & class1OrderLINE & class1OrderSINE & class2\\\\\n",
       "\\hline\n",
       "\t 288 & 145 & 265 & 128 & 294 & 237\\\\\n",
       "\t 206 & 206 & 206 & 212 & 337 & 247\\\\\n",
       "\t 247 &  87 &  87 & 339 & 157 & 206\\\\\n",
       "\t 164 & 164 & 164 & 223 & 317 & 172\\\\\n",
       "\t 269 & 189 & 189 & 171 & 178 & 223\\\\\n",
       "\t 342 & 342 & 342 & 257 & 184 &  94\\\\\n",
       "\\end{tabular}\n"
      ],
      "text/markdown": [
       "\n",
       "root | class1 | class1OrderLTR | class1OrderLINE | class1OrderSINE | class2 | \n",
       "|---|---|---|---|---|---|\n",
       "| 288 | 145 | 265 | 128 | 294 | 237 | \n",
       "| 206 | 206 | 206 | 212 | 337 | 247 | \n",
       "| 247 |  87 |  87 | 339 | 157 | 206 | \n",
       "| 164 | 164 | 164 | 223 | 317 | 172 | \n",
       "| 269 | 189 | 189 | 171 | 178 | 223 | \n",
       "| 342 | 342 | 342 | 257 | 184 |  94 | \n",
       "\n",
       "\n"
      ],
      "text/plain": [
       "  root class1 class1OrderLTR class1OrderLINE class1OrderSINE class2\n",
       "1 288  145    265            128             294             237   \n",
       "2 206  206    206            212             337             247   \n",
       "3 247   87     87            339             157             206   \n",
       "4 164  164    164            223             317             172   \n",
       "5 269  189    189            171             178             223   \n",
       "6 342  342    342            257             184              94   "
      ]
     },
     "metadata": {},
     "output_type": "display_data"
    }
   ],
   "source": [
    "res <- array(NA, dim=c(300,6))\n",
    "res[,1]=solutions(res_root)[[1]]\n",
    "res[,2]=solutions(res_class1)[[1]] \n",
    "res[,3]=solutions(res_class1orderLTR)[[1]] \n",
    "res[,4]=solutions(res_class1orderLINE)[[1]]\n",
    "res[,5]=solutions(res_class1orderSINE)[[1]]\n",
    "res[,6]=solutions(res_class2)[[1]]\n",
    "colnames(res) <- c('root','class1','class1OrderLTR', 'class1OrderLINE', 'class1OrderSINE', 'class2')\n",
    "res <- data.frame(res)\n",
    "head(res)"
   ]
  },
  {
   "cell_type": "code",
   "execution_count": 12,
   "metadata": {},
   "outputs": [
    {
     "data": {
      "text/html": [
       "<table>\n",
       "<thead><tr><th scope=col>root</th><th scope=col>class1</th><th scope=col>class1OrderLTR</th><th scope=col>class1OrderLINE</th><th scope=col>class1OrderSINE</th><th scope=col>class2</th></tr></thead>\n",
       "<tbody>\n",
       "\t<tr><td> 0.03605723 </td><td> 0.01390620 </td><td> 0.01160198 </td><td> 0.100516625</td><td>0.11503426  </td><td> 0.07555136 </td></tr>\n",
       "\t<tr><td>-0.13072318 </td><td>-0.03659201 </td><td>-0.01490437 </td><td>-0.002071081</td><td>0.04599622  </td><td>-0.16650545 </td></tr>\n",
       "\t<tr><td>-0.08572521 </td><td>-0.15233572 </td><td>-0.15065689 </td><td>-0.019113872</td><td>0.04676366  </td><td>-0.09566407 </td></tr>\n",
       "\t<tr><td>-0.18608936 </td><td>-0.15981561 </td><td>-0.14891868 </td><td>-0.014568071</td><td>0.02777371  </td><td>-0.13960142 </td></tr>\n",
       "\t<tr><td>-0.21565148 </td><td>-0.19951169 </td><td>-0.21261475 </td><td>-0.022920604</td><td>0.02443818  </td><td>-0.18131786 </td></tr>\n",
       "\t<tr><td>-0.21733296 </td><td>-0.21091751 </td><td>-0.21417004 </td><td>-0.007482423</td><td>0.01888730  </td><td>-0.18423519 </td></tr>\n",
       "</tbody>\n",
       "</table>\n"
      ],
      "text/latex": [
       "\\begin{tabular}{r|llllll}\n",
       " root & class1 & class1OrderLTR & class1OrderLINE & class1OrderSINE & class2\\\\\n",
       "\\hline\n",
       "\t  0.03605723  &  0.01390620  &  0.01160198  &  0.100516625 & 0.11503426   &  0.07555136 \\\\\n",
       "\t -0.13072318  & -0.03659201  & -0.01490437  & -0.002071081 & 0.04599622   & -0.16650545 \\\\\n",
       "\t -0.08572521  & -0.15233572  & -0.15065689  & -0.019113872 & 0.04676366   & -0.09566407 \\\\\n",
       "\t -0.18608936  & -0.15981561  & -0.14891868  & -0.014568071 & 0.02777371   & -0.13960142 \\\\\n",
       "\t -0.21565148  & -0.19951169  & -0.21261475  & -0.022920604 & 0.02443818   & -0.18131786 \\\\\n",
       "\t -0.21733296  & -0.21091751  & -0.21417004  & -0.007482423 & 0.01888730   & -0.18423519 \\\\\n",
       "\\end{tabular}\n"
      ],
      "text/markdown": [
       "\n",
       "root | class1 | class1OrderLTR | class1OrderLINE | class1OrderSINE | class2 | \n",
       "|---|---|---|---|---|---|\n",
       "|  0.03605723  |  0.01390620  |  0.01160198  |  0.100516625 | 0.11503426   |  0.07555136  | \n",
       "| -0.13072318  | -0.03659201  | -0.01490437  | -0.002071081 | 0.04599622   | -0.16650545  | \n",
       "| -0.08572521  | -0.15233572  | -0.15065689  | -0.019113872 | 0.04676366   | -0.09566407  | \n",
       "| -0.18608936  | -0.15981561  | -0.14891868  | -0.014568071 | 0.02777371   | -0.13960142  | \n",
       "| -0.21565148  | -0.19951169  | -0.21261475  | -0.022920604 | 0.02443818   | -0.18131786  | \n",
       "| -0.21733296  | -0.21091751  | -0.21417004  | -0.007482423 | 0.01888730   | -0.18423519  | \n",
       "\n",
       "\n"
      ],
      "text/plain": [
       "  root        class1      class1OrderLTR class1OrderLINE class1OrderSINE\n",
       "1  0.03605723  0.01390620  0.01160198     0.100516625    0.11503426     \n",
       "2 -0.13072318 -0.03659201 -0.01490437    -0.002071081    0.04599622     \n",
       "3 -0.08572521 -0.15233572 -0.15065689    -0.019113872    0.04676366     \n",
       "4 -0.18608936 -0.15981561 -0.14891868    -0.014568071    0.02777371     \n",
       "5 -0.21565148 -0.19951169 -0.21261475    -0.022920604    0.02443818     \n",
       "6 -0.21733296 -0.21091751 -0.21417004    -0.007482423    0.01888730     \n",
       "  class2     \n",
       "1  0.07555136\n",
       "2 -0.16650545\n",
       "3 -0.09566407\n",
       "4 -0.13960142\n",
       "5 -0.18131786\n",
       "6 -0.18423519"
      ]
     },
     "metadata": {},
     "output_type": "display_data"
    }
   ],
   "source": [
    "scor <- array(NA, dim=c(300,6))\n",
    "scor[,1]=scores(res_root)[[1]]\n",
    "scor[,2]=scores(res_class1)[[1]] \n",
    "scor[,3]=scores(res_class1orderLTR)[[1]] \n",
    "scor[,4]=scores(res_class1orderLINE)[[1]]\n",
    "scor[,5]=scores(res_class1orderSINE)[[1]]\n",
    "scor[,6]=scores(res_class2)[[1]]\n",
    "colnames(scor) <- c('root','class1','class1OrderLTR', 'class1OrderLINE', 'class1OrderSINE', 'class2')\n",
    "scor <- data.frame(scor)\n",
    "head(scor)"
   ]
  },
  {
   "cell_type": "code",
   "execution_count": 13,
   "metadata": {},
   "outputs": [],
   "source": [
    "write.table(res, file = \"mrmr_classic_features.csv\",row.names=FALSE, na=\"\", col.names=TRUE, sep=\",\")\n",
    "write.table(scor, file = \"mrmr_classic_scores.csv\",row.names=FALSE, na=\"\", col.names=TRUE, sep=\",\")"
   ]
  }
 ],
 "metadata": {
  "kernelspec": {
   "display_name": "R",
   "language": "R",
   "name": "ir"
  },
  "language_info": {
   "codemirror_mode": "r",
   "file_extension": ".r",
   "mimetype": "text/x-r-source",
   "name": "R",
   "pygments_lexer": "r",
   "version": "3.5.1"
  }
 },
 "nbformat": 4,
 "nbformat_minor": 2
}
