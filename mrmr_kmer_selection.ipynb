{
 "cells": [
  {
   "cell_type": "code",
   "execution_count": null,
   "metadata": {},
   "outputs": [],
   "source": [
    "library(mRMRe)"
   ]
  },
  {
   "cell_type": "code",
   "execution_count": null,
   "metadata": {},
   "outputs": [],
   "source": [
    "data <- read.csv('./raw_data')\n",
    "data[1:length(data[1,])] <- lapply(data[1:length(data[1,])], as.numeric)\n",
    "data_norm <- apply(data, 2, function(x)(x-min(x))/(max(x)-min(x))) \n",
    "target <- data[,(length(data[1,])-3):(length(data[1,]))]\n",
    "data <- data[,1:(length(data[1,])-4)]\n",
    "head(data)\n",
    "head(target)"
   ]
  },
  {
   "cell_type": "code",
   "execution_count": null,
   "metadata": {
    "scrolled": false
   },
   "outputs": [],
   "source": [
    "# Root node features\n",
    "indx <- !is.na(target[,1]) # Those with known class\n",
    "tmp <- cbind(target[indx,1],data[indx,])\n",
    "names(tmp)[1] <- 'target'\n",
    "head(tmp)\n",
    "# res_root <- mRMR.ensemble(data = mRMR.data(tmp), solution_count=5, target_indices = 1, feature_count = 300, method='bootstrap')\n",
    "res_root <- mRMR.ensemble(data = mRMR.data(tmp), solution_count=1, target_indices = 1, feature_count = 300, method='exhaustive')"
   ]
  },
  {
   "cell_type": "code",
   "execution_count": null,
   "metadata": {},
   "outputs": [],
   "source": [
    "# Class 1 node features\n",
    "indx <- target[,1]==1 & !is.na(target[,2]) # Those in class 1 with known order\n",
    "tmp <- cbind(target[indx,2],data[indx,])\n",
    "names(tmp)[1] <- 'target'\n",
    "head(tmp)\n",
    "# res_class1 <- mRMR.ensemble(data = mRMR.data(tmp), solution_count=5, target_indices = 1, feature_count = 300, method='bootstrap')\n",
    "res_class1 <- mRMR.ensemble(data = mRMR.data(tmp), solution_count=1, target_indices = 1, feature_count = 300, method='exhaustive')"
   ]
  },
  {
   "cell_type": "code",
   "execution_count": null,
   "metadata": {},
   "outputs": [],
   "source": [
    "# Class 1, Order LTR node features\n",
    "indx <- target[,1]==1 & target[,2]==1 & !is.na(target[,3]) # Those in class 1, order LTR with known superfamily\n",
    "tmp <- cbind(target[indx,3],data[indx,])\n",
    "names(tmp)[1] <- 'target'\n",
    "head(tmp)\n",
    "# res_class1orderLTR <- mRMR.ensemble(data = mRMR.data(tmp), solution_count=5, target_indices = 1, feature_count = 300, method='bootstrap')\n",
    "res_class1orderLTR <- mRMR.ensemble(data = mRMR.data(tmp), solution_count=1, target_indices = 1, feature_count = 300, method='exhaustive')"
   ]
  },
  {
   "cell_type": "code",
   "execution_count": null,
   "metadata": {},
   "outputs": [],
   "source": [
    "# Class 1, Order DIRS node features\n",
    "indx <- target[,1]==1 & target[,2]==2 & !is.na(target[,3]) # Those in class 1, order DIRS with known superfamily\n",
    "print(which(indx))"
   ]
  },
  {
   "cell_type": "code",
   "execution_count": null,
   "metadata": {},
   "outputs": [],
   "source": [
    "# Class 1, Order LINE node features\n",
    "indx <- target[,1]==1 & target[,2]==4 & !is.na(target[,3]) # Those in class 1, order LINE with known superfamily\n",
    "tmp <- cbind(target[indx,3],data[indx,])\n",
    "names(tmp)[1] <- 'target'\n",
    "head(tmp)\n",
    "# res_class1orderLINE <- mRMR.ensemble(data = mRMR.data(tmp), solution_count=5, target_indices = 1, feature_count = 300, method='bootstrap')\n",
    "res_class1orderLINE <- mRMR.ensemble(data = mRMR.data(tmp), solution_count=1, target_indices = 1, feature_count = 300, method='exhaustive')"
   ]
  },
  {
   "cell_type": "code",
   "execution_count": null,
   "metadata": {},
   "outputs": [],
   "source": [
    "# Class 1, Order SINE node features\n",
    "indx <- target[,1]==1 & target[,2]==5 & !is.na(target[,3]) # Those in class 1, order LINE with known superfamily\n",
    "tmp <- cbind(target[indx,3],data[indx,])\n",
    "names(tmp)[1] <- 'target'\n",
    "head(tmp)\n",
    "# res_class1orderSINE <- mRMR.ensemble(data = mRMR.data(tmp), solution_count=5, target_indices = 1, feature_count = 300, method='bootstrap')\n",
    "res_class1orderSINE <- mRMR.ensemble(data = mRMR.data(tmp), solution_count=1, target_indices = 1, feature_count = 300, method='exhaustive')"
   ]
  },
  {
   "cell_type": "code",
   "execution_count": null,
   "metadata": {},
   "outputs": [],
   "source": [
    "# Class 2, Subclass 1, Order TIR node features\n",
    "indx <- target[,1]==2 & !is.na(target[,4]) # Those in class 2 with known superfamily (All in Class 2 have subclass 1 and order TIR)\n",
    "tmp <- cbind(target[indx,4],data[indx,])\n",
    "names(tmp)[1] <- 'target'\n",
    "head(tmp)\n",
    "# res_class2 <- mRMR.ensemble(data = mRMR.data(tmp), solution_count=5, target_indices = 1, feature_count = 300, method='bootstrap')\n",
    "res_class2 <- mRMR.ensemble(data = mRMR.data(tmp), solution_count=1, target_indices = 1, feature_count = 300, method='exhaustive')\n",
    "rm(indx,tmp,target)"
   ]
  },
  {
   "cell_type": "code",
   "execution_count": null,
   "metadata": {},
   "outputs": [],
   "source": [
    "ls()"
   ]
  },
  {
   "cell_type": "code",
   "execution_count": null,
   "metadata": {},
   "outputs": [],
   "source": [
    "res <- array(NA, dim=c(300,6))\n",
    "res[,1]=solutions(res_root)[[1]]\n",
    "res[,2]=solutions(res_class1)[[1]] \n",
    "res[,3]=solutions(res_class1orderLTR)[[1]] \n",
    "res[,4]=solutions(res_class1orderLINE)[[1]]\n",
    "res[,5]=solutions(res_class1orderSINE)[[1]]\n",
    "res[,6]=solutions(res_class2)[[1]]\n",
    "colnames(res) <- c('root','class1','class1OrderLTR', 'class1OrderLINE', 'class1OrderSINE', 'class2')\n",
    "res <- data.frame(res)\n",
    "head(res)"
   ]
  },
  {
   "cell_type": "code",
   "execution_count": null,
   "metadata": {},
   "outputs": [],
   "source": [
    "scor <- array(NA, dim=c(300,6))\n",
    "scor[,1]=scores(res_root)[[1]]\n",
    "scor[,2]=scores(res_class1)[[1]] \n",
    "scor[,3]=scores(res_class1orderLTR)[[1]] \n",
    "scor[,4]=scores(res_class1orderLINE)[[1]]\n",
    "scor[,5]=scores(res_class1orderSINE)[[1]]\n",
    "scor[,6]=scores(res_class2)[[1]]\n",
    "colnames(scor) <- c('root','class1','class1OrderLTR', 'class1OrderLINE', 'class1OrderSINE', 'class2')\n",
    "scor <- data.frame(scor)\n",
    "head(scor)"
   ]
  },
  {
   "cell_type": "code",
   "execution_count": null,
   "metadata": {},
   "outputs": [],
   "source": [
    "write.table(res, file = \"mrmr_classic_features.csv\",row.names=FALSE, na=\"\", col.names=TRUE, sep=\",\")\n",
    "write.table(scor, file = \"mrmr_classic_scores.csv\",row.names=FALSE, na=\"\", col.names=TRUE, sep=\",\")"
   ]
  }
 ],
 "metadata": {
  "kernelspec": {
   "display_name": "R",
   "language": "R",
   "name": "ir"
  },
  "language_info": {
   "codemirror_mode": "r",
   "file_extension": ".r",
   "mimetype": "text/x-r-source",
   "name": "R",
   "pygments_lexer": "r",
   "version": "3.5.1"
  }
 },
 "nbformat": 4,
 "nbformat_minor": 2
}
